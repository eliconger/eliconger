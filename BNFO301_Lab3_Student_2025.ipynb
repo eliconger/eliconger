{
  "nbformat": 4,
  "nbformat_minor": 0,
  "metadata": {
    "kernelspec": {
      "display_name": "Python 3",
      "language": "python",
      "name": "python3"
    },
    "language_info": {
      "codemirror_mode": {
        "name": "ipython",
        "version": 3
      },
      "file_extension": ".py",
      "mimetype": "text/x-python",
      "name": "python",
      "nbconvert_exporter": "python",
      "pygments_lexer": "ipython3",
      "version": "3.7.4"
    },
    "colab": {
      "provenance": [],
      "include_colab_link": true
    }
  },
  "cells": [
    {
      "cell_type": "markdown",
      "metadata": {
        "id": "view-in-github",
        "colab_type": "text"
      },
      "source": [
        "<a href=\"https://colab.research.google.com/github/eliconger/eliconger/blob/main/BNFO301_Lab3_Student_2025.ipynb\" target=\"_parent\"><img src=\"https://colab.research.google.com/assets/colab-badge.svg\" alt=\"Open In Colab\"/></a>"
      ]
    },
    {
      "cell_type": "markdown",
      "metadata": {
        "id": "CV8ltn7IuWLR"
      },
      "source": [
        "<h1>BNFO301 Lab Assignment Week 3: Python Regex Module</h1>\n",
        "\n",
        "This week's assignment is designed to cover the basics of Python regex module functions and capabilities. Students will learn how to find count, identify and replace patterns through a file of short sequence reads (this week). Students will apply regex basics to finding degenerate primers and identifying a subset of common sequences in different files (next week)\n",
        "\n",
        "**Helpful Resources:**\n",
        "1. Re (Regex) documentation- https://docs.python.org/3/library/re.html\n",
        "2. Handy tool to build/test regular expression - https://regex101.com/\n",
        "3. Tutorial - http://justinbois.github.io/bootcamp/2015/lessons/l16_regular_expressions.html\n",
        "\n",
        "Grading:\n",
        "\n",
        "Question 1 - 3 points\n",
        "\n",
        "Question 2 - 3 points\n",
        "\n",
        "Question 3 - 4 points\n",
        "\n",
        "Personal Notes:\n",
        "* [a-z]+ regex is used to match a grouping of alphabetical character whereas\n",
        "* [a-z]* regex has to be present at least 0 times\n",
        "* ^\\s regex is starts with space charcter\n",
        "* \\S is everything except white space\n",
        "* [a-z]{3} all non overlapping group of 3 is acting to modify math length of 3\n",
        "* at* numner of ts following a can be variable after at occurs\n",
        "* . matches everything except a new line\n",
        "* .* will match everything except for a new line all the way through\n",
        "* 12\\d+ will match 12 and everything else within the string before the empty space\n",
        "* \\d*21\\d+ return any string that contains 21, and by saying give me anything that has 0-9 before or after it, and because of the * it is zero or more times. It will match if 21 is the leading or following or in the middle\n",
        "* \\d*21\\d+\\s*\\S+\n"
      ]
    },
    {
      "cell_type": "markdown",
      "metadata": {
        "id": "CM7DEBptKwuv"
      },
      "source": [
        "### Part 0- Setup (Provided code)\n",
        "Please run these two boxes to Read the Genbank Sample Data File\n",
        "\n",
        "Please note, this file is only the \"sequence\" portion of genbank file"
      ]
    },
    {
      "cell_type": "code",
      "metadata": {
        "id": "gjQcjXJLuWLV"
      },
      "source": [
        "import re # python regex module\n",
        "import os.path"
      ],
      "execution_count": null,
      "outputs": []
    },
    {
      "cell_type": "code",
      "metadata": {
        "id": "2zD28BXq0bRi",
        "colab": {
          "base_uri": "https://localhost:8080/"
        },
        "outputId": "7bf8f6b3-da82-4b0a-c063-0305d3b6844f"
      },
      "source": [
        "# Load the genbank file\n",
        "DATA_FILE_GITHUB = \"https://raw.githubusercontent.com/boydvcu/BNFO301_2023/main/genBankLikeSequence.txt\"\n",
        "DEFAULT_FILE_NAME = 'genBankLikeSequence.txt'\n",
        "\n",
        "fileName = DEFAULT_FILE_NAME\n",
        "#Does the file exists locally, if not get it from the github\n",
        "if not os.path.exists(fileName):\n",
        "  #Load the file from Github to the local folder\n",
        "  !wget --no-check-certificate --content-disposition $DATA_FILE_GITHUB\n",
        "\n",
        "print(\"Reading file:\", fileName)\n",
        "\n",
        "# Read in the string from the file\n",
        "with open(fileName, \"r\") as myfile:\n",
        "    gb_input = myfile.read()"
      ],
      "execution_count": null,
      "outputs": [
        {
          "output_type": "stream",
          "name": "stdout",
          "text": [
            "--2025-02-09 13:14:45--  https://raw.githubusercontent.com/boydvcu/BNFO301_2023/main/genBankLikeSequence.txt\n",
            "Resolving raw.githubusercontent.com (raw.githubusercontent.com)... 185.199.109.133, 185.199.110.133, 185.199.108.133, ...\n",
            "Connecting to raw.githubusercontent.com (raw.githubusercontent.com)|185.199.109.133|:443... connected.\n",
            "HTTP request sent, awaiting response... 200 OK\n",
            "Length: 6363 (6.2K) [text/plain]\n",
            "Saving to: ‘genBankLikeSequence.txt’\n",
            "\n",
            "\rgenBankLikeSequence   0%[                    ]       0  --.-KB/s               \rgenBankLikeSequence 100%[===================>]   6.21K  --.-KB/s    in 0s      \n",
            "\n",
            "2025-02-09 13:14:45 (68.3 MB/s) - ‘genBankLikeSequence.txt’ saved [6363/6363]\n",
            "\n",
            "Reading file: genBankLikeSequence.txt\n"
          ]
        }
      ]
    },
    {
      "cell_type": "markdown",
      "metadata": {
        "id": "WIDxNNSDz1pE"
      },
      "source": [
        "###Question 1- Counting \"Sequences\"\n",
        "DNA sequences stored are stored in genbank formated files as short strings seperated by white spaces.\n",
        "\n",
        "To respond to this prompt, please use a regular expression to match all of the individual \"short\" strings of DNA and print the total **number** of these short strings present in the file.\n",
        "\n",
        "The data has already been loaded and storeed as \"gb_input\".  Hover over the object in any box to see the data.\n",
        "\n",
        "Note: **Look at your file! You should find 503 matches!**"
      ]
    },
    {
      "cell_type": "code",
      "metadata": {
        "id": "np4qBU_jLTht",
        "colab": {
          "base_uri": "https://localhost:8080/"
        },
        "outputId": "1dbd5ae8-f4d6-4d2b-b444-1ee99bb3f6e6"
      },
      "source": [
        "# you can use the \"re.compile\" function to create a search patterns. For example, my_pattern = re.compile('[1-9]+')\n",
        "shortPattern = re.compile('[a-z]+')\n",
        "\n",
        "# once the pattern is available, you can use it to search for all strings containing the matching characters\n",
        "\n",
        "\n",
        "# use the function \"findall\" to store the \"short\" DNA strings that match your regex in the input file\n",
        "shortSegments = shortPattern.findall(gb_input)\n",
        "\n",
        "#print the length of the list obtained above, you should find 503 sequences\n",
        "print(len(shortSegments))"
      ],
      "execution_count": null,
      "outputs": [
        {
          "output_type": "stream",
          "name": "stdout",
          "text": [
            "503\n"
          ]
        }
      ]
    },
    {
      "cell_type": "markdown",
      "metadata": {
        "id": "RNOm5nBGRDYi"
      },
      "source": [
        "### Question 2 - matching DNA patterns\n",
        "Next, identify any of the \"short\" DNA strings that contains a specific the DNA sequence \"ccga\". Please use regular expressions to search for and print the sequences that contain the pattern and their location in the sequence.  Note that each section of DNA sequences is 10 bases in length and the ccga may appear at any point in the string.  Print the results to screen using the following format:\n",
        "\n",
        "Match: n \"sequence\" found at [x,y] <br> <br>\n",
        "___\n",
        "Note: the first match should be at the following position\n",
        "Match: 1 \"ccgacatgg\" found at [78,88] <br>\n",
        "\n",
        "The total number of Sequences matches should = 5"
      ]
    },
    {
      "cell_type": "code",
      "metadata": {
        "colab": {
          "base_uri": "https://localhost:8080/"
        },
        "id": "o6gGqqYmRbhb",
        "outputId": "6a77d854-e98a-4a6c-8481-9493b33e152b"
      },
      "source": [
        "# Compile our regex search pattern, as before.  Ensure your expression can account for the location of the match in the string.\n",
        "# note: you can use + to match the character one or more times, use * for 0 or greater than zero\n",
        "\n",
        "pattern = re.compile(r'ccga')\n",
        "\n",
        "count = 0\n",
        "\n",
        "#Note: the re.finditer funciton will allow to find all matches iteratively, the function expects the pattern then the data\n",
        "#Note: you can create a for loop using finditer\n",
        "\n",
        "# use the file to find the matches and locations rather than the list of shortsequences\n",
        "with open(fileName, \"r\") as file:\n",
        "  entireFile = file.read()\n",
        "\n",
        "    #keep a count of each match\n",
        "for match in re.finditer(pattern, entireFile):\n",
        "  count += 1\n",
        "\n",
        "  # retain the start position of the index of the match (integer) using the function start; eg. match.start()\n",
        "  string_Start = match.start()\n",
        "\n",
        "  # likewise for the final index of the match (integer) using the function end\n",
        "  string_End = match.end()\n",
        "\n",
        "  # using the function group, store the entire short string\n",
        "  entire_short_string = match.group()\n",
        "\n",
        "  # Use the provided code to print the matching string, and its start and stop\n",
        "  print('Match: {} \"{}\" found at: [{},{}]'.format(count, entire_short_string, string_Start, string_End))\n",
        "\n",
        "# print the total number of matches\n",
        "print(\"\\nTotal Sequences Found:\",count)"
      ],
      "execution_count": null,
      "outputs": [
        {
          "output_type": "stream",
          "name": "stdout",
          "text": [
            "Match: 1 \"ccga\" found at: [78,82]\n",
            "Match: 2 \"ccga\" found at: [595,599]\n",
            "Match: 3 \"ccga\" found at: [1127,1131]\n",
            "Match: 4 \"ccga\" found at: [4340,4344]\n",
            "Match: 5 \"ccga\" found at: [5205,5209]\n",
            "\n",
            "Total Sequences Found: 5\n"
          ]
        }
      ]
    },
    {
      "cell_type": "markdown",
      "metadata": {
        "id": "ODLfafzBgaxr"
      },
      "source": [
        "### Question 3. find and replace\n",
        "\n",
        "Search all the short sequence string containing the pattern \"cc\" and replace \"cc\" with \"R\" using regular expressions. Output the revised sequences to an output file, you should see this file under the files tab to the left, once you have run your code. Finally, peport how many replacements were done."
      ]
    },
    {
      "cell_type": "code",
      "metadata": {
        "id": "aR-PARNigby0"
      },
      "source": [
        "pattern = re.compile('cc')\n",
        "output = \"\"\n",
        "countChanges = 0\n",
        "\n",
        "#sequences = [pattern.sub(\"R\", segment) for segment in shortSegments if pattern.search(segment)]\n",
        "\n",
        "for segment in shortSegments:\n",
        "  if \"cc\" in segment:\n",
        "    output+=pattern.sub(\"R\", segment) + \"\\n\"\n",
        "    countChanges+=1\n",
        "\n",
        "OUTPUT_FILE_NAME = 'HW2_Results.txt'\n",
        "\n",
        "with open(OUTPUT_FILE_NAME, \"w\") as outfile:\n",
        "  outfile.write(f\"{countChanges} number of changes.\\n{output}\")\n",
        "\n",
        "# Get a list of all the short string containing the expresion using the function \"re.findall\"\n",
        "# use the function sub to find and replace cc with R, rember to store the result. Example usage mypattern.sub('R', Data)\n",
        "# open your outfile using \"OUTPUT_FILE_NAME\" and write updated data to this new file using print\n",
        "# close the output file\n",
        "\n"
      ],
      "execution_count": null,
      "outputs": []
    }
  ]
}