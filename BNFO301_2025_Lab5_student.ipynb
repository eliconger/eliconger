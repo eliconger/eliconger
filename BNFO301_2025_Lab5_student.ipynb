{
  "nbformat": 4,
  "nbformat_minor": 0,
  "metadata": {
    "colab": {
      "provenance": [],
      "include_colab_link": true
    },
    "kernelspec": {
      "name": "python3",
      "display_name": "Python 3"
    },
    "language_info": {
      "name": "python"
    }
  },
  "cells": [
    {
      "cell_type": "markdown",
      "metadata": {
        "id": "view-in-github",
        "colab_type": "text"
      },
      "source": [
        "<a href=\"https://colab.research.google.com/github/eliconger/eliconger/blob/main/BNFO301_2025_Lab5_student.ipynb\" target=\"_parent\"><img src=\"https://colab.research.google.com/assets/colab-badge.svg\" alt=\"Open In Colab\"/></a>"
      ]
    },
    {
      "cell_type": "markdown",
      "source": [
        "BNFO301 Lab Assignment 5: Creating a consensus sequence from an alignment\n",
        "\n",
        "A consensus sequence represents the most frequent nucleotide at each position in an alignment of two or more sequences. You can think of this as finding the most common base in a position within a multiple sequence alignment. Consensus sequences can be useful for identifying and visualizing motifs in a DNA or amino acid sequence. You have been provided a FASTA file of aligned sequences. The goal of this assignment is to write a python script to read in the sequences from the file and generate the consensus sequence\n",
        "\n",
        "Grading: problem 1 = 1 points; problem 2 = 4 points. problem 3 = 5 points.\n",
        "\n",
        "Do not use AI when completing this assignment."
      ],
      "metadata": {
        "id": "VbpfKfhodJIQ"
      }
    },
    {
      "cell_type": "markdown",
      "source": [
        "Setup\n",
        "\n",
        "Load the Sequence Data File. Please run this block without changing the code.\n",
        "\n",
        "This file is in fasta format and contains an alignment of DNA sequences, including gaps\n",
        "\n",
        "you can view the file by clicking on this link: https://raw.githubusercontent.com/boydvcu/BNFO301_2023/main/Nucl_alignment.fa"
      ],
      "metadata": {
        "id": "GhdutuqxeEZk"
      }
    },
    {
      "cell_type": "code",
      "execution_count": 29,
      "metadata": {
        "id": "JaZJEgyadIEL"
      },
      "outputs": [],
      "source": [
        "import os.path\n",
        "# Load the genbank file\n",
        "DATA_FILE_GITHUB = \"https://raw.githubusercontent.com/boydvcu/BNFO301_2023/main/Nucl_alignment.fa\"\n",
        "DEFAULT_FILE_NAME = 'Nucl_alignment.fa'\n",
        "\n",
        "fileName = DEFAULT_FILE_NAME\n",
        "#Does the file exists locally, if not get it from the github\n",
        "if not os.path.exists(fileName):\n",
        "  #Load the file from Github to the local folder\n",
        "  !wget --no-check-certificate --content-disposition $DATA_FILE_GITHUB"
      ]
    },
    {
      "cell_type": "markdown",
      "source": [
        "1.1) Create a definition to read the FASTA formated file and add sequences into a list. 1.2) Your definition should also create a second list that contains your headers (with the \">\" and white spaces removed) that can be used with the print statement given. Your function should return both lists.\n",
        "\n",
        "You have been provided a fucntion to print each list, so that you can evaluate your lists.\n",
        "\n",
        "Your output should look like this:\n",
        "\n",
        "Human GGAGAGGCTCGGAGCCGGGCCCGGACCCCGGCGATTGCCGCCCGCTTCTCT\n",
        "\n",
        "Gorilla GGAGAGGCTCGGAGCCGGGCCCGGACCCCGGCGATTGCCGCCCGCTTCTCT\n",
        "\n",
        "Dolphin GAGGCTC---GGAGCCGGACCTGGACCCCTGCGATAGCCGTCTG-CTCCCG\n",
        "\n",
        "Rat GGAGCAACTAGGAACCCGAACCAGAGCCCGGCGAGCGCAGCCTGCAGCTCC\n",
        "\n",
        "Mouse GAGGCGCCTAGGAACCCGAGCCGGAGCTCAGCGAGCGCAGCCTGCAGCTCC"
      ],
      "metadata": {
        "id": "4_MT0pj0eVKk"
      }
    },
    {
      "cell_type": "code",
      "source": [
        "# -----------------------------\n",
        "# Function reads in a file containing headers labeled with \">Animal Name\" and\n",
        "# sequences of base pairs. parses and organizes these into lists seqIds and\n",
        "# sequences. If line starts with \">\", strip and add the line to seqIds,\n",
        "# otherwise, continue building the sequence until header is found or end of file\n",
        "# is reached.\n",
        "# ------------------------------\n",
        "def ReadFile(fh):\n",
        "  # Instantiate lists\n",
        "  seqIds = []\n",
        "  sequences = []\n",
        "  currentSeq = \"\"\n",
        "\n",
        "  # for every line\n",
        "  for line in fh:\n",
        "    line = line.strip() # remove whitespace\n",
        "\n",
        "    # if a line begins with \">\", it is a header, and will be appended to\n",
        "    # the list of sequences. Before appending, check if a completed sequence\n",
        "    # needs to be appended to sequences\n",
        "    if line.startswith(\">\"):\n",
        "      if currentSeq:\n",
        "        sequences.append(currentSeq)\n",
        "        currentSeq = \"\"\n",
        "      seqIds.append(line.strip(\">\"))\n",
        "    # if the line does not begin with \">\", it is a sequence and should be\n",
        "    # appended to the currentSeq (blanks will be appended in header cases)\n",
        "    else:\n",
        "      currentSeq += line\n",
        "\n",
        "  # and finally if the sequence is the last sequence, append it to the list\n",
        "  # of sequences\n",
        "  if currentSeq:\n",
        "      sequences.append(currentSeq)\n",
        "\n",
        "  return seqIds, sequences\n",
        "\n",
        "\n",
        "# -----------------------------\n",
        "# Provided: Utility function provided to print your name and suqence lists\n",
        "# ------------------------------\n",
        "def printInfo(seqIds, seqs):\n",
        "    for seqId, seq in zip(seqIds, seqs):\n",
        "        print(\"{: <12} {: <20}\".format(seqId, seq))\n",
        "\n",
        "# -----------------------------\n",
        "# ADJUSTED FROM ORIGINAL TO COMBAT BLANK STATEMENT PRINTING ERROR\n",
        "# ------------------------------\n",
        "with open(fileName, \"r\") as fh:\n",
        "    seqIds, sequences = ReadFile(fh)\n",
        "    printInfo(seqIds, sequences)\n"
      ],
      "metadata": {
        "id": "4GZyCTl0eUxr",
        "colab": {
          "base_uri": "https://localhost:8080/"
        },
        "outputId": "761c1231-f952-46e1-cb47-f2edb9034521"
      },
      "execution_count": 34,
      "outputs": [
        {
          "output_type": "stream",
          "name": "stdout",
          "text": [
            " Human       GGAGAGGCTCGGAGCCGGGCCCGGACCCCGGCGATTGCCGCCCGCTTCTCT\n",
            " Gorilla     GGAGAGGCTCGGAGCCGGGCCCGGACCCCGGCGATTGCCGCCCGCTTCTCT\n",
            " Dolphin     GAGGCTC---GGAGCCGGACCTGGACCCCTGCGATAGCCGTCTG-CTCCCG\n",
            " Rat         GGAGCAACTAGGAACCCGAACCAGAGCCCGGCGAGCGCAGCCTGCAGCTCC\n",
            " Mouse       GAGGCGCCTAGGAACCCGAGCCGGAGCTCAGCGAGCGCAGCCTGCAGCTCC\n",
            "[' Human', ' Gorilla', ' Dolphin', ' Rat', ' Mouse']\n"
          ]
        }
      ]
    },
    {
      "cell_type": "markdown",
      "source": [
        "2) In this problem you will build a defition that returns bases in each column of the alignment.\n",
        "\n",
        "I suggest you use a nested loop structure to retrieve and store the data in such a way that you can easily determine the most common base. Multiple bioinformatic programs handle data in this way.\n",
        "\n",
        "You have been given code to print the first three columns of the matrix. This allows you to visualize your matrix and check it for accuracy. Functions len and range will be useful in completing this problem.\n",
        "\n",
        "Below is an example, of a 3-base pair alignment and data returned by the key function:\n",
        "\n",
        "Human GGA\n",
        "\n",
        "Gorilla GGA\n",
        "\n",
        "Dolphin GAG\n",
        "\n",
        "Rat GGA\n",
        "\n",
        "Mouse GAG\n",
        "\n",
        "You should return data that looks like this: [['G', 'G', 'G', 'G', 'G'], ['G', 'G', 'A', 'G', 'A'], ['A', 'A', 'G', 'A', 'G']]"
      ],
      "metadata": {
        "id": "UZCGvbEWfgRP"
      }
    },
    {
      "cell_type": "code",
      "source": [
        "# -----------------------------\n",
        "# generateMatrix(seqs) generates a list a matrix of sequences. Each element is a list of bases\n",
        "# ------------------------------\n",
        "def generateMatrix(seqs):\n",
        "  matrix = []\n",
        "  numColumns = len(seqs[0])\n",
        "  # for each sequence in seqs (for every sequence)\n",
        "  for column in range(numColumns):\n",
        "    # create a list for the bases and add the list to the matrix\n",
        "    baseList = []\n",
        "      # for base in sequence (for every base of each sequence)\n",
        "    for row in range(len(seqs)):\n",
        "      base = seqs[row][column]\n",
        "      # traverse the string and populate the list with bases\n",
        "      baseList.append(base)\n",
        "    # at the end of every sequence add the sequence to the baselist as a list\n",
        "    # of bases\n",
        "    matrix.append(baseList)\n",
        "  return matrix\n",
        "\n",
        "# -----------------------------\n",
        "# Provided\n",
        "# ------------------------------\n",
        "matrix = generateMatrix(sequences)\n",
        "print(matrix[0:3])"
      ],
      "metadata": {
        "colab": {
          "base_uri": "https://localhost:8080/"
        },
        "id": "-QuO0evXgUB0",
        "outputId": "4c644f42-736f-4de7-d068-47da22ecb794"
      },
      "execution_count": 36,
      "outputs": [
        {
          "output_type": "stream",
          "name": "stdout",
          "text": [
            "[['G', 'G', 'G', 'G', 'G'], ['G', 'G', 'A', 'G', 'A'], ['A', 'A', 'G', 'A', 'G']]\n"
          ]
        }
      ]
    },
    {
      "cell_type": "markdown",
      "source": [
        "3) In this last problem, you will create a defintion that returns a consensus sequence. This function should print the consensus sequence as one continuous string.\n",
        "\n",
        "You will again need to use nested loops. Functions get and max will be helpful in responding to this question.\n",
        "\n",
        "Before you start coding, you need to define some rules for your concensus sequence.  For today, you will use the following rules:\n",
        "\n",
        "1. If all bases are in agreement, return base as upper.case. e.g. ['G', 'G', 'G', 'G', 'G'] returns G\n",
        "2. If the the bases are not in agreement, but one base is more frequent than others, return the most frequent base in lower case. e.g. ['G', 'G', 'G', 'G', 'A'] returns g\n",
        "3. If there is an equal split between bases in a column, return \"n\". e.g. ['G', 'G', 'A', 'A', 'A', 'G'] returns n\n",
        "4. Ignore the gaps!\n",
        "\n",
        "Your output should look like this: GgaGcgnctnGGAgCCgGacCcgGAcCcCgGCGAtnGCcGcCtGcntCtCn"
      ],
      "metadata": {
        "id": "BuYbtdlmgjSD"
      }
    },
    {
      "cell_type": "code",
      "source": [
        "from collections import Counter\n",
        "# -----------------------------\n",
        "# getConsensus(matrix) takes a matrix where each element is a list of bases,\n",
        "# and returns a consensus sequence string following guidelines^\n",
        "# ------------------------------\n",
        "def getConsensus(matrix):\n",
        "    consensus = \"\"\n",
        "\n",
        "    # create a matrix where it is a list of COLUMNS (allignments)\n",
        "    numColumns = len(matrix)\n",
        "\n",
        "    # iterate over each column (allignment) in the matrix\n",
        "    for column in range(numColumns):\n",
        "      #count the occurences of bases and gaps\n",
        "      baseCounts = Counter(matrix[column])\n",
        "\n",
        "      # remove gap\n",
        "      if '-' in baseCounts:\n",
        "        del baseCounts['-']\n",
        "\n",
        "      # edge case for all gap spaces\n",
        "      if not baseCounts:\n",
        "        consensus += \"-\"\n",
        "        continue\n",
        "\n",
        "      # list is decsending order of frequencies\n",
        "      mostCommon = baseCounts.most_common()\n",
        "      # obtain the most frequent (first in the list)\n",
        "      maxCount = mostCommon[0][1]\n",
        "\n",
        "\n",
        "      # initialize a counter for the number of bases with the max frequency\n",
        "      numMaxCount = 0\n",
        "      # loop through each base and its frequency in mostCommon\n",
        "      for base, count in mostCommon:\n",
        "      # if the count == maxCount, increment numMaxCount 1\n",
        "        if count == maxCount:\n",
        "          numMaxCount += 1\n",
        "\n",
        "      # obtaining consensus\n",
        "      # if the bases are all the same, baseCount ==1, and uppercase base is added\n",
        "      # if maxCount is 1, there is a mostCommon but is not All-Occuring\n",
        "      # otherwise, there is an equal split of bases \"n\" is the output\n",
        "      if len(baseCounts) == 1:  # All bases agree\n",
        "        consensus += mostCommon[0][0].upper()\n",
        "      elif numMaxCount == 1:\n",
        "        consensus += mostCommon[0][0].lower()\n",
        "      else:\n",
        "        consensus += \"n\"\n",
        "\n",
        "    return consensus\n",
        "\n",
        "\n",
        "# -----------------------------\n",
        "# Provided\n",
        "# ------------------------------\n",
        "consensus = getConsensus(matrix)\n",
        "print(\"{: <25} {: <20}\\n\".format(\"CONSENSUS\", consensus))"
      ],
      "metadata": {
        "colab": {
          "base_uri": "https://localhost:8080/"
        },
        "id": "aygR4-YhgNuw",
        "outputId": "2aa1b582-ad12-41a4-c84c-287d808e05fc"
      },
      "execution_count": 41,
      "outputs": [
        {
          "output_type": "stream",
          "name": "stdout",
          "text": [
            "CONSENSUS                 GgaGcgnCTnGGAgCCgGacCcgGAcCcCgGCGAtnGCcGcCtGCntCtCn\n",
            "\n"
          ]
        }
      ]
    }
  ]
}