{
  "nbformat": 4,
  "nbformat_minor": 0,
  "metadata": {
    "colab": {
      "provenance": [],
      "toc_visible": true,
      "include_colab_link": true
    },
    "kernelspec": {
      "name": "python3",
      "display_name": "Python 3"
    },
    "language_info": {
      "name": "python"
    }
  },
  "cells": [
    {
      "cell_type": "markdown",
      "metadata": {
        "id": "view-in-github",
        "colab_type": "text"
      },
      "source": [
        "<a href=\"https://colab.research.google.com/github/eliconger/eliconger/blob/main/BNFO301_2025_Lab7_1_Student.ipynb\" target=\"_parent\"><img src=\"https://colab.research.google.com/assets/colab-badge.svg\" alt=\"Open In Colab\"/></a>"
      ]
    },
    {
      "cell_type": "markdown",
      "source": [
        "##Lab 7. Phylogenetic tree inference using distance matrix methods.\n",
        "\n",
        "In this three part lab, you will infer a phylogenetic tree using a Distance Matrix Method. In order to infer a tree using this method, we must take several steps, starting with sequences that have been aligned (i.e. they are of equal length), we must find all pairwise distances and correct the distances using one of many models of subsitution, group sequence pairs and re-calculate distances and repeat these processes until all pairs have been grouped.  This order of grouping determines the order taxa in the tree, whihc will be represented as a newick string.\n",
        "\n",
        "**Do not use AI when completing this assignment.**\n",
        "\n",
        "##Part 1. 10 points - March 21\n",
        "\n",
        "Problem 1.1 create a function to return P-distance\n",
        "\n",
        "Problem 1.2 create a function to return corrected P-distance using the Jukes-Cantor model.\n",
        "\n",
        "Problem 1.3 create a function to build a pairwise distance matrix\n",
        "\n",
        "Problem 1.4 create a function to find the pair of sequences with smallest distance, given the distance matrix from part 1.3\n",
        "\n",
        "##Part 2. 10 points - March 27\n",
        "\n",
        "Problem 2.1 create a function to merge the most similar sequences based on the corrected P-distances and \"shrink\" the matrix\n",
        "\n",
        "##Part 3. 10 points - April 3\n",
        "\n",
        "Problem 3.1 create a function to infer a phylogenetic tree\n",
        "\n",
        "Problem 3.2 create a function to read in a sequence alignment in phylip format\n",
        "\n",
        "Problem 3.3 use functions created in parts 1 and 2 to infer a phylogenetic tree given the alignment data provided in a phylip file\n",
        "\n",
        "Problem 3.3 Answer questions about this tree"
      ],
      "metadata": {
        "id": "y89ThmMC8vIl"
      }
    },
    {
      "cell_type": "markdown",
      "source": [
        "Run this box before starting to import the required package"
      ],
      "metadata": {
        "id": "x458jq_7t3iY"
      }
    },
    {
      "cell_type": "code",
      "execution_count": null,
      "metadata": {
        "id": "azPwaTFL8sRq"
      },
      "outputs": [],
      "source": [
        "import math"
      ]
    },
    {
      "cell_type": "markdown",
      "source": [
        "Problem 1.1 Create function to calculate a P-distance given two sequences"
      ],
      "metadata": {
        "id": "B7SNPmSI88db"
      }
    },
    {
      "cell_type": "code",
      "source": [
        "#####################\n",
        "#\n",
        "#create a definition called \"PDistance\" that returns an uncorrected P-distance given two sequences\n",
        "#your function should first check that sequences are of the same length, else return helpful error message (use keyword assert)\n",
        "#\n",
        "#####################\n",
        "\n",
        "def PDistance(x, y):\n",
        "  difference = 0\n",
        "  assert len(x) == len(y)\n",
        "  for i in range(len(x)):\n",
        "    if x[i] != y[i]:\n",
        "      difference+=1\n",
        "  return difference/len(x)\n",
        "\n",
        "\n",
        "#####################\n",
        "#\n",
        "#use these two sequences to test your function.\n",
        "#The P-distance should be equal to 0.2\n",
        "#\n",
        "######################\n",
        "\n",
        "seq1a = \"TATAGTAAAA\"\n",
        "seq2a = \"TATAGTATTA\"\n",
        "Dist_Problem1_1 = PDistance(seq1a, seq2a)\n",
        "print(Dist_Problem1_1)"
      ],
      "metadata": {
        "colab": {
          "base_uri": "https://localhost:8080/"
        },
        "id": "NDd8qvMZ9D6A",
        "outputId": "b195992b-69d4-41fa-aeab-3fa181d9b8d7"
      },
      "execution_count": 14,
      "outputs": [
        {
          "output_type": "stream",
          "name": "stdout",
          "text": [
            "0.2\n"
          ]
        }
      ]
    },
    {
      "cell_type": "markdown",
      "source": [
        "Problem 1.2. Create a function to correct the P-distance using the Jukes-Cantor model"
      ],
      "metadata": {
        "id": "q1ncczh_9Q4j"
      }
    },
    {
      "cell_type": "code",
      "source": [
        "import math\n",
        "#####################\n",
        "#\n",
        "#create a definition called \"JCdistance\" that returns a corrected P-distance given two sequences using the Jukes Cantor model\n",
        "#recal, Jukes Cantor was described in class is a simple correction of P-distance\n",
        "#Hint: use the function created in problem 1.1, \"PDistance\", to simplfly your code\n",
        "#\n",
        "# d = -3/4 * ln(1 - 4/3 * p)\n",
        "#\n",
        "#####################\n",
        "\n",
        "def JCdistance(x, y):\n",
        "  p = PDistance(x, y)\n",
        "  return -3/4 * math.log(1 - 4/3 * p)\n",
        "\n",
        "\n",
        "#####################\n",
        "#\n",
        "#use these two sequences to test your function;\n",
        "#Corrected P-distance = 0.2326161962278796\n",
        "#\n",
        "######################\n",
        "\n",
        "seq1b = \"TATAGTTAAA\"\n",
        "seq2b = \"TATAGTTTTA\"\n",
        "JCdist_Problem1_2 = JCdistance(seq1b, seq2b)\n",
        "print(JCdist_Problem1_2)"
      ],
      "metadata": {
        "colab": {
          "base_uri": "https://localhost:8080/"
        },
        "id": "aUszJJQ49RxI",
        "outputId": "0170b166-e7f9-4264-98b3-8bfc4d56c6eb"
      },
      "execution_count": 16,
      "outputs": [
        {
          "output_type": "stream",
          "name": "stdout",
          "text": [
            "0.2326161962278796\n"
          ]
        }
      ]
    },
    {
      "cell_type": "markdown",
      "source": [
        "Problem 1.3. Create a function to store distances between sequence pairs as a multidimentionsal dictionary.  You are required to use the Jukes Cantor corrected P-distance when building the dictionary.\n",
        "\n"
      ],
      "metadata": {
        "id": "-vdH854092s9"
      }
    },
    {
      "cell_type": "code",
      "source": [
        "#####################\n",
        "#\n",
        "#create a definition called \"DistanceMatrix\" that returns a dictionary given a set of DNA sequences\n",
        "#For this problem, assume the input data is a dictionary containing algined DNA sequences (values) and sequence names (keys)\n",
        "#From this function, return a nested dictionary discribing pairwise distances between sequence pairs.\n",
        "#Note: The dictionary returned should include all comparisons, including to self.\n",
        "#\n",
        "#####################\n",
        "\n",
        "def DistanceMatrix(sequences):\n",
        "  matrix = {}\n",
        "  for i in sequences:\n",
        "    matrix[i] = {}\n",
        "    for j in sequences:\n",
        "      matrix[i][j] = JCdistance(sequences[i], sequences[j])\n",
        "  return matrix\n",
        "\n",
        "\n",
        "#####################\n",
        "#\n",
        "#use the sequence dictionary below to test your function\n",
        "#expected result: {'seq1': {'seq1': 0.0, 'seq2': 0.2326161962278796, 'seq3': 0.3831192178244929, 'seq4': 0.2326161962278796}, 'seq2': {'seq1': 0.2326161962278796, 'seq2': 0.0, 'seq3': 0.3831192178244929, 'seq4': 0.0}, 'seq3': {'seq1': 0.3831192178244929, 'seq2': 0.3831192178244929, 'seq3': 0.0, 'seq4': 0.3831192178244929}, 'seq4': {'seq1': 0.2326161962278796, 'seq2': 0.0, 'seq3': 0.3831192178244929, 'seq4': 0.0}}\n",
        "#\n",
        "#####################\n",
        "\n",
        "SampleSeqDict = {'seq1': 'TATACTAAAA', 'seq2': 'TATACTAATT', 'seq3': 'TATAGTATTA', 'seq4': 'TATACTAATT'}\n",
        "Matrix_Problem1_3 = DistanceMatrix(SampleSeqDict)\n",
        "print(Matrix_Problem1_3)"
      ],
      "metadata": {
        "colab": {
          "base_uri": "https://localhost:8080/"
        },
        "id": "qX7R0W0N93bY",
        "outputId": "e958fe5f-bf13-4cd9-d662-e651b5dd93a5"
      },
      "execution_count": 22,
      "outputs": [
        {
          "output_type": "stream",
          "name": "stdout",
          "text": [
            "{'seq1': {'seq1': -0.0, 'seq2': 0.2326161962278796, 'seq3': 0.3831192178244929, 'seq4': 0.2326161962278796}, 'seq2': {'seq1': 0.2326161962278796, 'seq2': -0.0, 'seq3': 0.3831192178244929, 'seq4': -0.0}, 'seq3': {'seq1': 0.3831192178244929, 'seq2': 0.3831192178244929, 'seq3': -0.0, 'seq4': 0.3831192178244929}, 'seq4': {'seq1': 0.2326161962278796, 'seq2': -0.0, 'seq3': 0.3831192178244929, 'seq4': -0.0}}\n"
          ]
        }
      ]
    },
    {
      "cell_type": "markdown",
      "source": [
        "Problem 1.4. Create a function to find the most similar sequences, given the nested dictionary you created in the last problem."
      ],
      "metadata": {
        "id": "D-UwDybBAVF-"
      }
    },
    {
      "cell_type": "code",
      "source": [
        "#####################\n",
        "#\n",
        "#create a definition called \"GetMinDistance\" that returns name of two sequences that has the shortest distance in a dictionary\n",
        "#Note: avoid comparisons to self when finding the shortest distance\n",
        "#\n",
        "#####################\n",
        "\n",
        "def GetMinDistance(matrix):\n",
        "\n",
        "\n",
        "  shortest = 1000000\n",
        "  for i in matrix:\n",
        "    for j in matrix[i]:\n",
        "      if i != j and matrix[i][j] < shortest:\n",
        "        shortest = matrix[i][j]\n",
        "        name1 = i\n",
        "        name2 = j\n",
        "  return name1, name2\n",
        "\n",
        "\n",
        "#####################\n",
        "#\n",
        "#use these sequences to test your function, seq1 and seq2 are most similar within the test data\n",
        "#Expected result: seq1 and seq2\n",
        "#\n",
        "#####################\n",
        "\n",
        "SampleSeqDict = {'seq1': 'TATAGTATTA', 'seq2': 'TATAGTATTA', 'seq3': 'AATAGTATTA', 'seq4': 'TATACAATTA'}\n",
        "Matrix_Problem1_4 = DistanceMatrix(SampleSeqDict)\n",
        "i, j = GetMinDistance(Matrix_Problem1_4)\n",
        "print(i,j)"
      ],
      "metadata": {
        "colab": {
          "base_uri": "https://localhost:8080/"
        },
        "id": "41ye0QOyAf4a",
        "outputId": "c248888d-cd6d-445f-83b8-c5d0a663db51"
      },
      "execution_count": 20,
      "outputs": [
        {
          "output_type": "stream",
          "name": "stdout",
          "text": [
            "seq1 seq2\n"
          ]
        }
      ]
    }
  ]
}